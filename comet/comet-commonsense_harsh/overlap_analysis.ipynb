{
 "cells": [
  {
   "cell_type": "code",
   "execution_count": 32,
   "metadata": {},
   "outputs": [],
   "source": [
    "import json\n",
    "import numpy as np\n",
    "import scipy.stats\n",
    "import matplotlib.pyplot as plt\n",
    "from collections import Counter"
   ]
  },
  {
   "cell_type": "code",
   "execution_count": 2,
   "metadata": {},
   "outputs": [],
   "source": [
    "import os\n",
    "import sys\n",
    "import argparse\n",
    "import torch\n",
    "\n",
    "sys.path.append(os.getcwd())\n",
    "\n",
    "# import src.data.data as data\n",
    "import src.data.config as cfg\n",
    "import src.interactive.functions as interactive\n",
    "\n",
    "import json\n",
    "import random\n",
    "\n",
    "import string\n",
    "from nltk.corpus import stopwords \n",
    "from nltk.tokenize import word_tokenize \n",
    "  "
   ]
  },
  {
   "cell_type": "code",
   "execution_count": 3,
   "metadata": {},
   "outputs": [
    {
     "data": {
      "text/plain": [
       "'string With Punctuation'"
      ]
     },
     "execution_count": 3,
     "metadata": {},
     "output_type": "execute_result"
    }
   ],
   "source": [
    "s = \"string. With. Punctuation?\" # Sample string \n",
    "s.translate(str.maketrans('', '', string.punctuation))"
   ]
  },
  {
   "cell_type": "code",
   "execution_count": 4,
   "metadata": {},
   "outputs": [],
   "source": [
    "example_sent = \"This is a sample sentence, showing off the stop words filtration.\"\n",
    "stop_words = set(stopwords.words('english')) \n",
    "word_tokens = word_tokenize(example_sent) \n",
    "filtered_sentence = [w for w in word_tokens if not w in stop_words] \n",
    "  "
   ]
  },
  {
   "cell_type": "code",
   "execution_count": null,
   "metadata": {},
   "outputs": [],
   "source": []
  },
  {
   "cell_type": "code",
   "execution_count": 5,
   "metadata": {},
   "outputs": [],
   "source": [
    "# DUMP_FILE = '../../data/personachat_self_original_comet.json'\n",
    "DUMP_FILE = '../../data/personachat_self_original_comet_validation.json'  # ** VALIDATION SPLIT ONLY"
   ]
  },
  {
   "cell_type": "code",
   "execution_count": 6,
   "metadata": {},
   "outputs": [],
   "source": [
    "def load_data(dump_fname):\n",
    "    annotated_data = json.load(open(dump_fname,'r'))\n",
    "    return annotated_data"
   ]
  },
  {
   "cell_type": "code",
   "execution_count": 7,
   "metadata": {},
   "outputs": [],
   "source": [
    "annotated_data = load_data(DUMP_FILE)"
   ]
  },
  {
   "cell_type": "code",
   "execution_count": 8,
   "metadata": {},
   "outputs": [
    {
     "data": {
      "text/plain": [
       "dict_keys(['valid'])"
      ]
     },
     "execution_count": 8,
     "metadata": {},
     "output_type": "execute_result"
    }
   ],
   "source": [
    "annotated_data.keys()"
   ]
  },
  {
   "cell_type": "code",
   "execution_count": 9,
   "metadata": {},
   "outputs": [],
   "source": [
    "split = 'valid'"
   ]
  },
  {
   "cell_type": "code",
   "execution_count": 10,
   "metadata": {},
   "outputs": [
    {
     "data": {
      "text/plain": [
       "(1, 1000, dict_keys(['personality', 'utterances', 'coment_annotation']))"
      ]
     },
     "execution_count": 10,
     "metadata": {},
     "output_type": "execute_result"
    }
   ],
   "source": [
    "len(annotated_data), len(annotated_data[split]), annotated_data[split][0].keys()"
   ]
  },
  {
   "cell_type": "code",
   "execution_count": 11,
   "metadata": {},
   "outputs": [],
   "source": [
    "# annotated_data['train']"
   ]
  },
  {
   "cell_type": "code",
   "execution_count": 12,
   "metadata": {},
   "outputs": [
    {
     "data": {
      "text/plain": [
       "[{'sent': 'i read twenty books a year .',\n",
       "  'comet': {'oEffect': {'event': 'i read twenty books a year .',\n",
       "    'effect_type': 'oEffect',\n",
       "    'beams': ['none',\n",
       "     'they get a good grade',\n",
       "     'wants to read more',\n",
       "     'they learn about the books',\n",
       "     'they learn about the book']},\n",
       "   'oReact': {'event': 'i read twenty books a year .',\n",
       "    'effect_type': 'oReact',\n",
       "    'beams': ['none', 'happy', 'interested', 'impressed', 'proud']},\n",
       "   'oWant': {'event': 'i read twenty books a year .',\n",
       "    'effect_type': 'oWant',\n",
       "    'beams': ['none',\n",
       "     'to teach them more',\n",
       "     'to read more books',\n",
       "     'to read more',\n",
       "     'to teach them']},\n",
       "   'xAttr': {'event': 'i read twenty books a year .',\n",
       "    'effect_type': 'xAttr',\n",
       "    'beams': ['intelligent', 'studious', 'intellectual', 'smart', 'educated']},\n",
       "   'xEffect': {'event': 'i read twenty books a year .',\n",
       "    'effect_type': 'xEffect',\n",
       "    'beams': ['gains knowledge',\n",
       "     'learns a lot',\n",
       "     'learns something new',\n",
       "     'none',\n",
       "     'learns something']},\n",
       "   'xIntent': {'event': 'i read twenty books a year .',\n",
       "    'effect_type': 'xIntent',\n",
       "    'beams': ['to learn',\n",
       "     'to learn something new',\n",
       "     'to learn a lot',\n",
       "     'to learn something',\n",
       "     'to learn more']},\n",
       "   'xNeed': {'event': 'i read twenty books a year .',\n",
       "    'effect_type': 'xNeed',\n",
       "    'beams': ['none',\n",
       "     'to go to the library',\n",
       "     'to buy books',\n",
       "     'to go to school',\n",
       "     'to have books']},\n",
       "   'xReact': {'event': 'i read twenty books a year .',\n",
       "    'effect_type': 'xReact',\n",
       "    'beams': ['smart', 'smarter', 'intelligent', 'educated', 'happy']},\n",
       "   'xWant': {'event': 'i read twenty books a year .',\n",
       "    'effect_type': 'xWant',\n",
       "    'beams': ['to get a good grade',\n",
       "     'to learn something new',\n",
       "     'to learn more',\n",
       "     'to read more',\n",
       "     'to get a good job']}}},\n",
       " {'sent': \"i'm a stunt double as my second job .\",\n",
       "  'comet': {'oEffect': {'event': \"i'm a stunt double as my second job .\",\n",
       "    'effect_type': 'oEffect',\n",
       "    'beams': ['none',\n",
       "     \"get 's things done well\",\n",
       "     \"get 's their work done\",\n",
       "     \"get 's things done\",\n",
       "     'gets fired']},\n",
       "   'oReact': {'event': \"i'm a stunt double as my second job .\",\n",
       "    'effect_type': 'oReact',\n",
       "    'beams': ['none', 'annoyed', 'angry', 'irritated', 'upset']},\n",
       "   'oWant': {'event': \"i'm a stunt double as my second job .\",\n",
       "    'effect_type': 'oWant',\n",
       "    'beams': ['none',\n",
       "     'to get rid of him',\n",
       "     'to fire personx',\n",
       "     'to thank personx',\n",
       "     'to hire me']},\n",
       "   'xAttr': {'event': \"i'm a stunt double as my second job .\",\n",
       "    'effect_type': 'xAttr',\n",
       "    'beams': ['untrustworthy',\n",
       "     'mean',\n",
       "     'immature',\n",
       "     'incompetent',\n",
       "     'irresponsible']},\n",
       "   'xEffect': {'event': \"i'm a stunt double as my second job .\",\n",
       "    'effect_type': 'xEffect',\n",
       "    'beams': ['none',\n",
       "     'gets yelled at',\n",
       "     'gets fired',\n",
       "     'personx gets a promotion',\n",
       "     'personx gets fired']},\n",
       "   'xIntent': {'event': \"i'm a stunt double as my second job .\",\n",
       "    'effect_type': 'xIntent',\n",
       "    'beams': ['none',\n",
       "     'to be the best',\n",
       "     'to be a clown',\n",
       "     'to be the boss',\n",
       "     'to make money']},\n",
       "   'xNeed': {'event': \"i'm a stunt double as my second job .\",\n",
       "    'effect_type': 'xNeed',\n",
       "    'beams': ['none',\n",
       "     'to be in a position of power',\n",
       "     'to have a job',\n",
       "     'to have a reason to do it',\n",
       "     'to be a stunt driver']},\n",
       "   'xReact': {'event': \"i'm a stunt double as my second job .\",\n",
       "    'effect_type': 'xReact',\n",
       "    'beams': ['satisfied', 'happy', 'ashamed', 'guilty', 'proud']},\n",
       "   'xWant': {'event': \"i'm a stunt double as my second job .\",\n",
       "    'effect_type': 'xWant',\n",
       "    'beams': ['to get a new job',\n",
       "     'to get a raise',\n",
       "     'to get a promotion',\n",
       "     'to be successful',\n",
       "     'to prove his skills']}}},\n",
       " {'sent': 'i only eat kosher .',\n",
       "  'comet': {'oEffect': {'event': 'i only eat kosher .',\n",
       "    'effect_type': 'oEffect',\n",
       "    'beams': ['none',\n",
       "     'they eat it too',\n",
       "     'no effect',\n",
       "     'they get sick',\n",
       "     'they eat it']},\n",
       "   'oReact': {'event': 'i only eat kosher .',\n",
       "    'effect_type': 'oReact',\n",
       "    'beams': ['none', 'happy', 'hungry', 'satisfied', 'disgusted']},\n",
       "   'oWant': {'event': 'i only eat kosher .',\n",
       "    'effect_type': 'oWant',\n",
       "    'beams': ['none',\n",
       "     'to eat something else',\n",
       "     'to eat it too',\n",
       "     'to eat some too',\n",
       "     'to eat something else too']},\n",
       "   'xAttr': {'event': 'i only eat kosher .',\n",
       "    'effect_type': 'xAttr',\n",
       "    'beams': ['hungry', 'satiated', 'fat', 'vegan', 'healthy']},\n",
       "   'xEffect': {'event': 'i only eat kosher .',\n",
       "    'effect_type': 'xEffect',\n",
       "    'beams': ['becomes full',\n",
       "     'gets sick',\n",
       "     'personx is full',\n",
       "     'none',\n",
       "     'is full']},\n",
       "   'xIntent': {'event': 'i only eat kosher .',\n",
       "    'effect_type': 'xIntent',\n",
       "    'beams': ['to be healthy',\n",
       "     'to not be hungry',\n",
       "     'to be full',\n",
       "     'none',\n",
       "     'to not eat']},\n",
       "   'xNeed': {'event': 'i only eat kosher .',\n",
       "    'effect_type': 'xNeed',\n",
       "    'beams': ['none',\n",
       "     'to go to the store',\n",
       "     'to go to the grocery store',\n",
       "     'to go to the market',\n",
       "     'to buy it']},\n",
       "   'xReact': {'event': 'i only eat kosher .',\n",
       "    'effect_type': 'xReact',\n",
       "    'beams': ['satisfied', 'full', 'satiated', 'healthy', 'happy']},\n",
       "   'xWant': {'event': 'i only eat kosher .',\n",
       "    'effect_type': 'xWant',\n",
       "    'beams': ['to eat something else',\n",
       "     'to be full',\n",
       "     'to drink water',\n",
       "     'to be healthy',\n",
       "     'to have a drink']}}},\n",
       " {'sent': 'i was raised in a single parent household .',\n",
       "  'comet': {'oEffect': {'event': 'i was raised in a single parent household .',\n",
       "    'effect_type': 'oEffect',\n",
       "    'beams': ['none',\n",
       "     'they are taken care of by their parent',\n",
       "     'they are taken care of',\n",
       "     'they raise their own children',\n",
       "     'they raise their own kids']},\n",
       "   'oReact': {'event': 'i was raised in a single parent household .',\n",
       "    'effect_type': 'oReact',\n",
       "    'beams': ['none', 'sad', 'happy', 'worried', 'loved']},\n",
       "   'oWant': {'event': 'i was raised in a single parent household .',\n",
       "    'effect_type': 'oWant',\n",
       "    'beams': ['none',\n",
       "     'to support personx',\n",
       "     'to help personx raise their child',\n",
       "     'to help personx',\n",
       "     'to support him']},\n",
       "   'xAttr': {'event': 'i was raised in a single parent household .',\n",
       "    'effect_type': 'xAttr',\n",
       "    'beams': ['alone', 'sad', 'lonely', 'independent', 'young']},\n",
       "   'xEffect': {'event': 'i was raised in a single parent household .',\n",
       "    'effect_type': 'xEffect',\n",
       "    'beams': ['none',\n",
       "     'personx has a lot of responsibility',\n",
       "     'personx has a baby .',\n",
       "     'personx has a baby',\n",
       "     'personx has a child']},\n",
       "   'xIntent': {'event': 'i was raised in a single parent household .',\n",
       "    'effect_type': 'xIntent',\n",
       "    'beams': ['none',\n",
       "     'to be alone',\n",
       "     'to raise a child',\n",
       "     'to be a good parent',\n",
       "     'to be a good child']},\n",
       "   'xNeed': {'event': 'i was raised in a single parent household .',\n",
       "    'effect_type': 'xNeed',\n",
       "    'beams': ['none',\n",
       "     'to have a parent',\n",
       "     'to have a baby',\n",
       "     'to have a child',\n",
       "     'to have a baby .']},\n",
       "   'xReact': {'event': 'i was raised in a single parent household .',\n",
       "    'effect_type': 'xReact',\n",
       "    'beams': ['sad', 'lonely', 'happy', 'worried', 'alone']},\n",
       "   'xWant': {'event': 'i was raised in a single parent household .',\n",
       "    'effect_type': 'xWant',\n",
       "    'beams': ['to raise a child',\n",
       "     'to raise their own children',\n",
       "     'to raise their own kids',\n",
       "     'to raise a baby',\n",
       "     'to raise their child']}}}]"
      ]
     },
     "execution_count": 12,
     "metadata": {},
     "output_type": "execute_result"
    }
   ],
   "source": [
    "annotated_data[split][0]['coment_annotation']"
   ]
  },
  {
   "cell_type": "code",
   "execution_count": null,
   "metadata": {},
   "outputs": [],
   "source": []
  },
  {
   "cell_type": "code",
   "execution_count": 13,
   "metadata": {},
   "outputs": [
    {
     "data": {
      "text/plain": [
       "(8,\n",
       " {'candidates': ['oh really ? i am actually in high school and i am graduating as class of 2019 !',\n",
       "   \"that's an interesting choice . i'd have to pick french fries\",\n",
       "   'i just got a pet fish for my 18th birthday yesterday from my parents .',\n",
       "   'yeah , well what about you ?',\n",
       "   'my favorite watch is the rolex ? what is yours ?',\n",
       "   \"what is in spain that's so interesting\",\n",
       "   \"i don't like clowns . they are scary to a kid like me\",\n",
       "   'poetry . roses are red . violet are . . . ?',\n",
       "   'my father is a member of the army , served for 10 years now .',\n",
       "   'oh i like mexican food , but my favorite food are cheeseburgers',\n",
       "   'hey there , are you a mother ?',\n",
       "   \"it sure is . i'd like to see more of the city though .\",\n",
       "   'it is not so fun i have 2 friend who speak a different langues',\n",
       "   \"i'd like some honey though . do you sell it ?\",\n",
       "   'i am a recovering heavy drinker . full time . how about you ?',\n",
       "   'hi ! i have three kids . how many do you have ?',\n",
       "   'awesome ! i own 2 dogs , love them',\n",
       "   'yes , my favorite is broccoli and tofu in a garlic sauce . yum !',\n",
       "   'maybe he can skydive to see a better view',\n",
       "   'i am good , i just got off work and tired , i have two jobs .'],\n",
       "  'history': ['hello what are doing today ?']})"
      ]
     },
     "execution_count": 13,
     "metadata": {},
     "output_type": "execute_result"
    }
   ],
   "source": [
    "len(annotated_data[split][0]['utterances']), annotated_data[split][0]['utterances'][0]"
   ]
  },
  {
   "cell_type": "code",
   "execution_count": 14,
   "metadata": {},
   "outputs": [
    {
     "data": {
      "text/plain": [
       "{'candidates': ['why have you not sent help ? ! the scorpions are stinging my legs ! ree ! ! ! ! ! ! !',\n",
       "  'that is great i am expecting twins in two months . will these be your first kids ?',\n",
       "  'do you live on a farm or ranch ?',\n",
       "  'hi how are you doing tonight i am fine .',\n",
       "  \"i'd love to see her do that .\",\n",
       "  \"i don't . but i am so glad you do something that brings you joy\",\n",
       "  'it is hard , buy my dog keeps me company . do you have dogs ?',\n",
       "  'sounds like a good plan , what would you like to teach ?',\n",
       "  'i like rap music and i also produce for music artists .',\n",
       "  'where do you work ?',\n",
       "  'i broke my arm so i can not drink coffee',\n",
       "  \"i meant mickey . cool i've a lot of friends and love the playground . do you ?\",\n",
       "  'oh , yes . i wish i could skate to school . i ride the bus instead .',\n",
       "  'that is my idea of heaven . i love bunnies ! i donate to a bunny charity too .',\n",
       "  'i work on a freelance basis as an author , blogger and affiliate marketer . and you ?',\n",
       "  'like me ? would you go on vacation to the beach with me',\n",
       "  \"i don't let myself watch tv\",\n",
       "  'we can go for a trade that sounds awesome',\n",
       "  'what part of the world is bratislava ?',\n",
       "  \"i rather read , i've read about 20 books this year .\"],\n",
       " 'history': ['hello what are doing today ?',\n",
       "  'i am good , i just got off work and tired , i have two jobs .',\n",
       "  'i just got done watching a horror movie']}"
      ]
     },
     "execution_count": 14,
     "metadata": {},
     "output_type": "execute_result"
    }
   ],
   "source": [
    "annotated_data[split][0]['utterances'][1]"
   ]
  },
  {
   "cell_type": "code",
   "execution_count": 15,
   "metadata": {},
   "outputs": [
    {
     "data": {
      "text/plain": [
       "{'candidates': ['fun , i should take my kids out to do that . do you have a family ?',\n",
       "  'they were popular in my younger days lol',\n",
       "  'i sing and love rock especially while working . keeps me pumped .',\n",
       "  'i mean where i come from kitties do not play with birds .',\n",
       "  'i tend my rose garden and read books . i am deaf in one ear',\n",
       "  'you can learn to say something nice and smart',\n",
       "  'when in europe all i do is shop',\n",
       "  'wow , that is exciting ! i never went to a nascar race .',\n",
       "  'i live in hawaii and i work from home .',\n",
       "  'hello jennifer , i am a proud dad and husband',\n",
       "  'and my spouse used all the money i earned',\n",
       "  'oh young people . the holidays are coming . that makes me sad .',\n",
       "  'i had surgery last week and now i think of an object , and it moves !',\n",
       "  'hello ! i just got back from a run . what are you up to today ?',\n",
       "  'hello , my name is ally and my favourite color is orange',\n",
       "  \"no i didn't see that . i am excited for the new star wars though\",\n",
       "  'that is exciting ! do you go to church ?',\n",
       "  'bless her ! no kids here . more of a dog man .',\n",
       "  \"i've one dog and a nice career\",\n",
       "  'now that i am older home depot is my toy r us .'],\n",
       " 'history': ['hello what are doing today ?',\n",
       "  'i am good , i just got off work and tired , i have two jobs .',\n",
       "  'i just got done watching a horror movie',\n",
       "  \"i rather read , i've read about 20 books this year .\",\n",
       "  'wow ! i do love a good horror movie . loving this cooler weather',\n",
       "  'but a good movie is always good .',\n",
       "  'yes ! my son is in junior high and i just started letting him watch them too',\n",
       "  'i work in the movies as well .',\n",
       "  'neat ! ! i used to work in the human services field',\n",
       "  'yes it is neat , i stunt double , it is so much fun and hard work .',\n",
       "  'yes i bet you can get hurt . my wife works and i stay at home',\n",
       "  'nice , i only have one parent so now i help out my mom .',\n",
       "  'i bet she appreciates that very much .',\n",
       "  'she raised me right , i am just like her .',\n",
       "  'my dad was always busy working at home depot']}"
      ]
     },
     "execution_count": 15,
     "metadata": {},
     "output_type": "execute_result"
    }
   ],
   "source": [
    "annotated_data[split][0]['utterances'][-1]"
   ]
  },
  {
   "cell_type": "code",
   "execution_count": null,
   "metadata": {},
   "outputs": [],
   "source": []
  },
  {
   "cell_type": "code",
   "execution_count": null,
   "metadata": {},
   "outputs": [],
   "source": []
  },
  {
   "cell_type": "code",
   "execution_count": 47,
   "metadata": {},
   "outputs": [],
   "source": [
    "def process_text(s, typ='unigram', rem_stop=True):\n",
    "    s = s.lower()\n",
    "    s = s.translate(str.maketrans('', '', string.punctuation))\n",
    "    word_tokens = word_tokenize(s) \n",
    "    filtered_sentence = word_tokens\n",
    "    if rem_stop:\n",
    "        filtered_sentence = [w for w in filtered_sentence if not w in stop_words] \n",
    "    if typ=='bigram':\n",
    "        filtered_sentence = [ '_'.join(filtered_sentence[i:i+2]) for i in range(len(filtered_sentence)-1) ] \n",
    "    return filtered_sentence\n",
    "    "
   ]
  },
  {
   "cell_type": "code",
   "execution_count": 60,
   "metadata": {},
   "outputs": [],
   "source": [
    "def get_detailed_report(history, all_personality_words, all_comet_sentences):\n",
    "    ret = []\n",
    "    for sent_h in history:\n",
    "        for tok in sent_h:\n",
    "            if tok in stop_words: # these are not interesting\n",
    "                continue\n",
    "            if tok not in all_personality_words:\n",
    "                for sent in all_comet_sentences:\n",
    "                    if tok in sent:\n",
    "                        ret.append([tok,sent_h,sent])\n",
    "    return ret\n",
    "    "
   ]
  },
  {
   "cell_type": "code",
   "execution_count": 61,
   "metadata": {},
   "outputs": [],
   "source": [
    "def process(item, typ='unigram', rem_stop=True, det_report=False):\n",
    "    \n",
    "    utterances = item['utterances']\n",
    "    history = utterances[-1]['history']\n",
    "    all_conversation_words = []\n",
    "    all_conversation_sent = []\n",
    "    for h in history:\n",
    "        #print(\"history: \", h)\n",
    "        tmp = process_text(h,typ=typ,rem_stop=rem_stop)\n",
    "        all_conversation_words.extend(tmp)\n",
    "        all_conversation_sent.append(tmp)\n",
    "    all_conversation_words = set(all_conversation_words)\n",
    "\n",
    "    personality = item['personality']\n",
    "    all_personality_words = []\n",
    "    for h in personality:\n",
    "        #print(\"personality: \", h)\n",
    "        all_personality_words.extend(process_text(h,typ=typ,rem_stop=rem_stop))\n",
    "    all_personality_words = set(all_personality_words)\n",
    "    \n",
    "    coment_annotation = item['coment_annotation']\n",
    "    all_comet_words = []\n",
    "    all_comet_sentences = [] # stores list of processed sentences\n",
    "    for h in coment_annotation:\n",
    "        comet = h['comet']\n",
    "        for _,value in comet.items():\n",
    "            for sent in value['beams']:\n",
    "                #print('coment_annotation: ',sent)\n",
    "                if sent.strip() == 'none':\n",
    "                    continue\n",
    "                tmp = process_text(sent,typ=typ,rem_stop=rem_stop)\n",
    "                all_comet_sentences.append(tmp)\n",
    "                all_comet_words.extend(tmp)\n",
    "    all_comet_words = set(all_comet_words)\n",
    "    \n",
    "    detailed_report=None\n",
    "    if det_report:\n",
    "        detailed_report = get_detailed_report(all_conversation_sent, all_personality_words, all_comet_sentences)\n",
    "    \n",
    "    \n",
    "    conv_personality_overlap = len(all_conversation_words.intersection(all_personality_words)) / ( len(all_conversation_words) )\n",
    "    conv_comet_overlap = len(all_conversation_words.intersection(all_comet_words)) /  ( len(all_conversation_words) )\n",
    "    \n",
    "    all_extended_personality_words = all_comet_words.union(all_personality_words)\n",
    "    conv_ext_personality_overlap = len(all_conversation_words.intersection(all_extended_personality_words)) /  ( len(all_conversation_words) )\n",
    "    \n",
    "    additional_word_set = all_conversation_words.intersection(all_comet_words) - all_conversation_words.intersection(all_personality_words)\n",
    "    \n",
    "    #print(\"additional_word_set = \", additional_word_set)\n",
    "    #print(conv_personality_overlap, conv_comet_overlap)\n",
    "    \n",
    "    return {'additional_word_set':additional_word_set, \n",
    "            'detailed_report':detailed_report,\n",
    "            'conv_personality_overlap':conv_personality_overlap,\n",
    "            'conv_comet_overlap':conv_comet_overlap,\n",
    "            'conv_ext_personality_overlap':conv_ext_personality_overlap,\n",
    "            'additional_recall':conv_ext_personality_overlap - conv_personality_overlap}\n",
    "    "
   ]
  },
  {
   "cell_type": "code",
   "execution_count": null,
   "metadata": {},
   "outputs": [],
   "source": []
  },
  {
   "cell_type": "code",
   "execution_count": null,
   "metadata": {},
   "outputs": [],
   "source": []
  },
  {
   "cell_type": "code",
   "execution_count": null,
   "metadata": {},
   "outputs": [],
   "source": []
  },
  {
   "cell_type": "code",
   "execution_count": 38,
   "metadata": {
    "scrolled": false
   },
   "outputs": [
    {
     "data": {
      "text/plain": [
       "{'additional_word_set': {'done', 'get', 'good', 'help', 'well', 'work'},\n",
       " 'conv_personality_overlap': 0.1111111111111111,\n",
       " 'conv_comet_overlap': 0.15873015873015872,\n",
       " 'conv_ext_personality_overlap': 0.20634920634920634,\n",
       " 'additional_recall': 0.09523809523809523}"
      ]
     },
     "execution_count": 38,
     "metadata": {},
     "output_type": "execute_result"
    }
   ],
   "source": [
    "process(annotated_data[split][0])"
   ]
  },
  {
   "cell_type": "code",
   "execution_count": null,
   "metadata": {},
   "outputs": [],
   "source": []
  },
  {
   "cell_type": "code",
   "execution_count": null,
   "metadata": {},
   "outputs": [],
   "source": [
    "#additionalrecall possible --- unigrams without stopwordss"
   ]
  },
  {
   "cell_type": "code",
   "execution_count": 29,
   "metadata": {},
   "outputs": [
    {
     "data": {
      "text/plain": [
       "1000"
      ]
     },
     "execution_count": 29,
     "metadata": {},
     "output_type": "execute_result"
    }
   ],
   "source": [
    "all_ret_split = []\n",
    "for datum in annotated_data[split]:\n",
    "    all_ret_split.append(process(datum))\n",
    "len(all_ret_split)"
   ]
  },
  {
   "cell_type": "code",
   "execution_count": 30,
   "metadata": {},
   "outputs": [
    {
     "data": {
      "text/plain": [
       "DescribeResult(nobs=1000, minmax=(0.0, 0.28125), mean=0.10200358608080372, variance=0.0017070346252220359, skewness=0.42867000470503713, kurtosis=0.29558621111059225)"
      ]
     },
     "execution_count": 30,
     "metadata": {},
     "output_type": "execute_result"
    }
   ],
   "source": [
    "additional_recall_vals_split = [val['additional_recall'] for val in all_ret_split]\n",
    "scipy.stats.describe(additional_recall_vals_split)"
   ]
  },
  {
   "cell_type": "code",
   "execution_count": 31,
   "metadata": {},
   "outputs": [
    {
     "data": {
      "text/plain": [
       "(array([ 25.,  98., 234., 266., 208., 109.,  42.,  14.,   2.,   2.]),\n",
       " array([0.      , 0.028125, 0.05625 , 0.084375, 0.1125  , 0.140625,\n",
       "        0.16875 , 0.196875, 0.225   , 0.253125, 0.28125 ]),\n",
       " <a list of 10 Patch objects>)"
      ]
     },
     "execution_count": 31,
     "metadata": {},
     "output_type": "execute_result"
    },
    {
     "data": {
      "image/png": "[encoded data removed]",
      "text/plain": [
       "<Figure size 432x288 with 1 Axes>"
      ]
     },
     "metadata": {
      "needs_background": "light"
     },
     "output_type": "display_data"
    }
   ],
   "source": [
    "plt.hist(additional_recall_vals_split)"
   ]
  },
  {
   "cell_type": "code",
   "execution_count": null,
   "metadata": {},
   "outputs": [],
   "source": [
    "### additional_word_set"
   ]
  },
  {
   "cell_type": "code",
   "execution_count": 36,
   "metadata": {
    "scrolled": true
   },
   "outputs": [
    {
     "data": {
      "text/plain": [
       "([('good', 470),\n",
       "  ('like', 327),\n",
       "  ('get', 301),\n",
       "  ('go', 250),\n",
       "  ('fun', 237),\n",
       "  ('well', 210),\n",
       "  ('lot', 198),\n",
       "  ('time', 146),\n",
       "  ('work', 105),\n",
       "  ('make', 99),\n",
       "  ('new', 97),\n",
       "  ('job', 96),\n",
       "  ('know', 91),\n",
       "  ('play', 77),\n",
       "  ('thank', 70),\n",
       "  ('money', 69),\n",
       "  ('people', 67),\n",
       "  ('enjoy', 65),\n",
       "  ('eat', 64),\n",
       "  ('home', 55),\n",
       "  ('school', 51),\n",
       "  ('nice', 50),\n",
       "  ('help', 48),\n",
       "  ('happy', 44),\n",
       "  ('dog', 43),\n",
       "  ('see', 42),\n",
       "  ('take', 42),\n",
       "  ('young', 40),\n",
       "  ('better', 40),\n",
       "  ('teach', 37),\n",
       "  ('also', 35),\n",
       "  ('hard', 34),\n",
       "  ('music', 33),\n",
       "  ('person', 31),\n",
       "  ('family', 30),\n",
       "  ('listen', 30),\n",
       "  ('sure', 30),\n",
       "  ('sad', 30),\n",
       "  ('kids', 29),\n",
       "  ('food', 29),\n",
       "  ('things', 29),\n",
       "  ('kind', 28),\n",
       "  ('learn', 28),\n",
       "  ('life', 27)],\n",
       " [('tan', 1),\n",
       "  ('allergies', 1),\n",
       "  ('dead', 1),\n",
       "  ('teacher', 1),\n",
       "  ('annoyed', 1),\n",
       "  ('tell', 1),\n",
       "  ('unhappy', 1),\n",
       "  ('watched', 1),\n",
       "  ('intelligent', 1),\n",
       "  ('cry', 1),\n",
       "  ('adopt', 1),\n",
       "  ('service', 1),\n",
       "  ('cake', 1),\n",
       "  ('player', 1),\n",
       "  ('control', 1),\n",
       "  ('feed', 1),\n",
       "  ('want', 1),\n",
       "  ('interests', 1),\n",
       "  ('stop', 1),\n",
       "  ('worked', 1),\n",
       "  ('helpful', 1),\n",
       "  ('glass', 1)])"
      ]
     },
     "execution_count": 36,
     "metadata": {},
     "output_type": "execute_result"
    }
   ],
   "source": [
    "additional_word_set_vals_split = []\n",
    "for val in all_ret_split:\n",
    "    additional_word_set_vals_split.extend( val['additional_word_set'] )\n",
    "ctr = sorted( Counter(additional_word_set_vals_split).items(),key=lambda x:-x[1] )\n",
    "ctr[:44], ctr[-22:]"
   ]
  },
  {
   "cell_type": "code",
   "execution_count": null,
   "metadata": {},
   "outputs": [],
   "source": []
  },
  {
   "cell_type": "code",
   "execution_count": null,
   "metadata": {},
   "outputs": [],
   "source": [
    "#additionalrecall possible --- bigrams with stopwords"
   ]
  },
  {
   "cell_type": "code",
   "execution_count": 43,
   "metadata": {},
   "outputs": [
    {
     "data": {
      "text/plain": [
       "1000"
      ]
     },
     "execution_count": 43,
     "metadata": {},
     "output_type": "execute_result"
    }
   ],
   "source": [
    "all_ret_split = []\n",
    "for datum in annotated_data[split]:\n",
    "    all_ret_split.append(process(datum,typ='bigram',rem_stop=False))\n",
    "len(all_ret_split)"
   ]
  },
  {
   "cell_type": "code",
   "execution_count": 44,
   "metadata": {},
   "outputs": [
    {
     "data": {
      "text/plain": [
       "DescribeResult(nobs=1000, minmax=(0.0, 0.0891089108910891), mean=0.02670558813952201, variance=0.0002897037247020613, skewness=0.6778822229550405, kurtosis=0.15975328627713736)"
      ]
     },
     "execution_count": 44,
     "metadata": {},
     "output_type": "execute_result"
    }
   ],
   "source": [
    "additional_recall_vals_split = [val['additional_recall'] for val in all_ret_split]\n",
    "scipy.stats.describe(additional_recall_vals_split)"
   ]
  },
  {
   "cell_type": "code",
   "execution_count": 45,
   "metadata": {},
   "outputs": [
    {
     "data": {
      "text/plain": [
       "(array([147., 220., 192., 154., 126.,  84.,  50.,  13.,   9.,   5.]),\n",
       " array([0.        , 0.00891089, 0.01782178, 0.02673267, 0.03564356,\n",
       "        0.04455446, 0.05346535, 0.06237624, 0.07128713, 0.08019802,\n",
       "        0.08910891]),\n",
       " <a list of 10 Patch objects>)"
      ]
     },
     "execution_count": 45,
     "metadata": {},
     "output_type": "execute_result"
    },
    {
     "data": {
      "image/png": "[encoded data removed]",
      "text/plain": [
       "<Figure size 432x288 with 1 Axes>"
      ]
     },
     "metadata": {
      "needs_background": "light"
     },
     "output_type": "display_data"
    }
   ],
   "source": [
    "plt.hist(additional_recall_vals_split)"
   ]
  },
  {
   "cell_type": "code",
   "execution_count": 46,
   "metadata": {
    "scrolled": true
   },
   "outputs": [
    {
     "data": {
      "text/plain": [
       "([('have_a', 211),\n",
       "  ('a_lot', 196),\n",
       "  ('to_be', 164),\n",
       "  ('go_to', 116),\n",
       "  ('lot_of', 113),\n",
       "  ('to_go', 109),\n",
       "  ('to_get', 98),\n",
       "  ('to_the', 94),\n",
       "  ('be_a', 79),\n",
       "  ('to_have', 75),\n",
       "  ('a_good', 71),\n",
       "  ('for_a', 48),\n",
       "  ('to_do', 42),\n",
       "  ('in_the', 40),\n",
       "  ('in_a', 39),\n",
       "  ('get_a', 38),\n",
       "  ('to_play', 34),\n",
       "  ('of_the', 32),\n",
       "  ('for_the', 31),\n",
       "  ('to_make', 30),\n",
       "  ('a_job', 29),\n",
       "  ('listen_to', 29),\n",
       "  ('is_a', 28),\n",
       "  ('they_are', 28),\n",
       "  ('a_new', 27),\n",
       "  ('get_to', 27),\n",
       "  ('like_to', 26),\n",
       "  ('to_eat', 26),\n",
       "  ('a_dog', 23),\n",
       "  ('have_to', 22),\n",
       "  ('to_school', 21),\n",
       "  ('to_know', 19),\n",
       "  ('on_the', 19),\n",
       "  ('to_a', 17),\n",
       "  ('to_read', 15),\n",
       "  ('to_work', 15),\n",
       "  ('i_like', 15),\n",
       "  ('live_in', 15),\n",
       "  ('to_learn', 15),\n",
       "  ('to_listen', 13),\n",
       "  ('on_a', 13),\n",
       "  ('not_like', 12),\n",
       "  ('how_to', 12),\n",
       "  ('to_take', 12)],\n",
       " [('for_jobs', 1),\n",
       "  ('well_in', 1),\n",
       "  ('from_the', 1),\n",
       "  ('a_doctor', 1),\n",
       "  ('a_drink', 1),\n",
       "  ('birthday_cake', 1),\n",
       "  ('the_doctor', 1),\n",
       "  ('they_play', 1),\n",
       "  ('the_crops', 1),\n",
       "  ('a_city', 1),\n",
       "  ('learn_a', 1),\n",
       "  ('like_reading', 1),\n",
       "  ('to_encourage', 1),\n",
       "  ('of_fish', 1),\n",
       "  ('two_kids', 1),\n",
       "  ('a_glass', 1),\n",
       "  ('enjoy_life', 1),\n",
       "  ('like_mountain', 1),\n",
       "  ('drink_coffee', 1),\n",
       "  ('the_word', 1),\n",
       "  ('speak_spanish', 1),\n",
       "  ('a_skater', 1)])"
      ]
     },
     "execution_count": 46,
     "metadata": {},
     "output_type": "execute_result"
    }
   ],
   "source": [
    "additional_word_set_vals_split = []\n",
    "for val in all_ret_split:\n",
    "    additional_word_set_vals_split.extend( val['additional_word_set'] )\n",
    "ctr = sorted( Counter(additional_word_set_vals_split).items(),key=lambda x:-x[1] )\n",
    "ctr[:44], ctr[-22:]"
   ]
  },
  {
   "cell_type": "code",
   "execution_count": null,
   "metadata": {},
   "outputs": [],
   "source": []
  },
  {
   "cell_type": "code",
   "execution_count": null,
   "metadata": {},
   "outputs": [],
   "source": []
  },
  {
   "cell_type": "code",
   "execution_count": 50,
   "metadata": {},
   "outputs": [],
   "source": [
    "### see some examples of context in which additional words are present\n"
   ]
  },
  {
   "cell_type": "code",
   "execution_count": 62,
   "metadata": {},
   "outputs": [
    {
     "data": {
      "text/plain": [
       "1000"
      ]
     },
     "execution_count": 62,
     "metadata": {},
     "output_type": "execute_result"
    }
   ],
   "source": [
    "all_ret_split = []\n",
    "for datum in annotated_data[split]:\n",
    "    all_ret_split.append(process(datum,typ='unigram',rem_stop=False,det_report=True))\n",
    "len(all_ret_split)"
   ]
  },
  {
   "cell_type": "code",
   "execution_count": 63,
   "metadata": {},
   "outputs": [
    {
     "data": {
      "text/plain": [
       "{'additional_word_set': {'about',\n",
       "  'are',\n",
       "  'at',\n",
       "  'do',\n",
       "  'done',\n",
       "  'get',\n",
       "  'good',\n",
       "  'have',\n",
       "  'help',\n",
       "  'him',\n",
       "  'is',\n",
       "  'it',\n",
       "  'me',\n",
       "  'the',\n",
       "  'them',\n",
       "  'to',\n",
       "  'too',\n",
       "  'well',\n",
       "  'work'},\n",
       " 'detailed_report': [['good',\n",
       "   ['i',\n",
       "    'am',\n",
       "    'good',\n",
       "    'i',\n",
       "    'just',\n",
       "    'got',\n",
       "    'off',\n",
       "    'work',\n",
       "    'and',\n",
       "    'tired',\n",
       "    'i',\n",
       "    'have',\n",
       "    'two',\n",
       "    'jobs'],\n",
       "   ['they', 'get', 'a', 'good', 'grade']],\n",
       "  ['good',\n",
       "   ['i',\n",
       "    'am',\n",
       "    'good',\n",
       "    'i',\n",
       "    'just',\n",
       "    'got',\n",
       "    'off',\n",
       "    'work',\n",
       "    'and',\n",
       "    'tired',\n",
       "    'i',\n",
       "    'have',\n",
       "    'two',\n",
       "    'jobs'],\n",
       "   ['to', 'get', 'a', 'good', 'grade']],\n",
       "  ['good',\n",
       "   ['i',\n",
       "    'am',\n",
       "    'good',\n",
       "    'i',\n",
       "    'just',\n",
       "    'got',\n",
       "    'off',\n",
       "    'work',\n",
       "    'and',\n",
       "    'tired',\n",
       "    'i',\n",
       "    'have',\n",
       "    'two',\n",
       "    'jobs'],\n",
       "   ['to', 'get', 'a', 'good', 'job']],\n",
       "  ['good',\n",
       "   ['i',\n",
       "    'am',\n",
       "    'good',\n",
       "    'i',\n",
       "    'just',\n",
       "    'got',\n",
       "    'off',\n",
       "    'work',\n",
       "    'and',\n",
       "    'tired',\n",
       "    'i',\n",
       "    'have',\n",
       "    'two',\n",
       "    'jobs'],\n",
       "   ['to', 'be', 'a', 'good', 'parent']],\n",
       "  ['good',\n",
       "   ['i',\n",
       "    'am',\n",
       "    'good',\n",
       "    'i',\n",
       "    'just',\n",
       "    'got',\n",
       "    'off',\n",
       "    'work',\n",
       "    'and',\n",
       "    'tired',\n",
       "    'i',\n",
       "    'have',\n",
       "    'two',\n",
       "    'jobs'],\n",
       "   ['to', 'be', 'a', 'good', 'child']],\n",
       "  ['work',\n",
       "   ['i',\n",
       "    'am',\n",
       "    'good',\n",
       "    'i',\n",
       "    'just',\n",
       "    'got',\n",
       "    'off',\n",
       "    'work',\n",
       "    'and',\n",
       "    'tired',\n",
       "    'i',\n",
       "    'have',\n",
       "    'two',\n",
       "    'jobs'],\n",
       "   ['get', 's', 'their', 'work', 'done']],\n",
       "  ['done',\n",
       "   ['i', 'just', 'got', 'done', 'watching', 'a', 'horror', 'movie'],\n",
       "   ['get', 's', 'things', 'done', 'well']],\n",
       "  ['done',\n",
       "   ['i', 'just', 'got', 'done', 'watching', 'a', 'horror', 'movie'],\n",
       "   ['get', 's', 'their', 'work', 'done']],\n",
       "  ['done',\n",
       "   ['i', 'just', 'got', 'done', 'watching', 'a', 'horror', 'movie'],\n",
       "   ['get', 's', 'things', 'done']],\n",
       "  ['good',\n",
       "   ['wow',\n",
       "    'i',\n",
       "    'do',\n",
       "    'love',\n",
       "    'a',\n",
       "    'good',\n",
       "    'horror',\n",
       "    'movie',\n",
       "    'loving',\n",
       "    'this',\n",
       "    'cooler',\n",
       "    'weather'],\n",
       "   ['they', 'get', 'a', 'good', 'grade']],\n",
       "  ['good',\n",
       "   ['wow',\n",
       "    'i',\n",
       "    'do',\n",
       "    'love',\n",
       "    'a',\n",
       "    'good',\n",
       "    'horror',\n",
       "    'movie',\n",
       "    'loving',\n",
       "    'this',\n",
       "    'cooler',\n",
       "    'weather'],\n",
       "   ['to', 'get', 'a', 'good', 'grade']],\n",
       "  ['good',\n",
       "   ['wow',\n",
       "    'i',\n",
       "    'do',\n",
       "    'love',\n",
       "    'a',\n",
       "    'good',\n",
       "    'horror',\n",
       "    'movie',\n",
       "    'loving',\n",
       "    'this',\n",
       "    'cooler',\n",
       "    'weather'],\n",
       "   ['to', 'get', 'a', 'good', 'job']],\n",
       "  ['good',\n",
       "   ['wow',\n",
       "    'i',\n",
       "    'do',\n",
       "    'love',\n",
       "    'a',\n",
       "    'good',\n",
       "    'horror',\n",
       "    'movie',\n",
       "    'loving',\n",
       "    'this',\n",
       "    'cooler',\n",
       "    'weather'],\n",
       "   ['to', 'be', 'a', 'good', 'parent']],\n",
       "  ['good',\n",
       "   ['wow',\n",
       "    'i',\n",
       "    'do',\n",
       "    'love',\n",
       "    'a',\n",
       "    'good',\n",
       "    'horror',\n",
       "    'movie',\n",
       "    'loving',\n",
       "    'this',\n",
       "    'cooler',\n",
       "    'weather'],\n",
       "   ['to', 'be', 'a', 'good', 'child']],\n",
       "  ['good',\n",
       "   ['but', 'a', 'good', 'movie', 'is', 'always', 'good'],\n",
       "   ['they', 'get', 'a', 'good', 'grade']],\n",
       "  ['good',\n",
       "   ['but', 'a', 'good', 'movie', 'is', 'always', 'good'],\n",
       "   ['to', 'get', 'a', 'good', 'grade']],\n",
       "  ['good',\n",
       "   ['but', 'a', 'good', 'movie', 'is', 'always', 'good'],\n",
       "   ['to', 'get', 'a', 'good', 'job']],\n",
       "  ['good',\n",
       "   ['but', 'a', 'good', 'movie', 'is', 'always', 'good'],\n",
       "   ['to', 'be', 'a', 'good', 'parent']],\n",
       "  ['good',\n",
       "   ['but', 'a', 'good', 'movie', 'is', 'always', 'good'],\n",
       "   ['to', 'be', 'a', 'good', 'child']],\n",
       "  ['good',\n",
       "   ['but', 'a', 'good', 'movie', 'is', 'always', 'good'],\n",
       "   ['they', 'get', 'a', 'good', 'grade']],\n",
       "  ['good',\n",
       "   ['but', 'a', 'good', 'movie', 'is', 'always', 'good'],\n",
       "   ['to', 'get', 'a', 'good', 'grade']],\n",
       "  ['good',\n",
       "   ['but', 'a', 'good', 'movie', 'is', 'always', 'good'],\n",
       "   ['to', 'get', 'a', 'good', 'job']],\n",
       "  ['good',\n",
       "   ['but', 'a', 'good', 'movie', 'is', 'always', 'good'],\n",
       "   ['to', 'be', 'a', 'good', 'parent']],\n",
       "  ['good',\n",
       "   ['but', 'a', 'good', 'movie', 'is', 'always', 'good'],\n",
       "   ['to', 'be', 'a', 'good', 'child']],\n",
       "  ['work',\n",
       "   ['i', 'work', 'in', 'the', 'movies', 'as', 'well'],\n",
       "   ['get', 's', 'their', 'work', 'done']],\n",
       "  ['well',\n",
       "   ['i', 'work', 'in', 'the', 'movies', 'as', 'well'],\n",
       "   ['get', 's', 'things', 'done', 'well']],\n",
       "  ['work',\n",
       "   ['neat',\n",
       "    'i',\n",
       "    'used',\n",
       "    'to',\n",
       "    'work',\n",
       "    'in',\n",
       "    'the',\n",
       "    'human',\n",
       "    'services',\n",
       "    'field'],\n",
       "   ['get', 's', 'their', 'work', 'done']],\n",
       "  ['work',\n",
       "   ['yes',\n",
       "    'it',\n",
       "    'is',\n",
       "    'neat',\n",
       "    'i',\n",
       "    'stunt',\n",
       "    'double',\n",
       "    'it',\n",
       "    'is',\n",
       "    'so',\n",
       "    'much',\n",
       "    'fun',\n",
       "    'and',\n",
       "    'hard',\n",
       "    'work'],\n",
       "   ['get', 's', 'their', 'work', 'done']],\n",
       "  ['get',\n",
       "   ['yes',\n",
       "    'i',\n",
       "    'bet',\n",
       "    'you',\n",
       "    'can',\n",
       "    'get',\n",
       "    'hurt',\n",
       "    'my',\n",
       "    'wife',\n",
       "    'works',\n",
       "    'and',\n",
       "    'i',\n",
       "    'stay',\n",
       "    'at',\n",
       "    'home'],\n",
       "   ['they', 'get', 'a', 'good', 'grade']],\n",
       "  ['get',\n",
       "   ['yes',\n",
       "    'i',\n",
       "    'bet',\n",
       "    'you',\n",
       "    'can',\n",
       "    'get',\n",
       "    'hurt',\n",
       "    'my',\n",
       "    'wife',\n",
       "    'works',\n",
       "    'and',\n",
       "    'i',\n",
       "    'stay',\n",
       "    'at',\n",
       "    'home'],\n",
       "   ['to', 'get', 'a', 'good', 'grade']],\n",
       "  ['get',\n",
       "   ['yes',\n",
       "    'i',\n",
       "    'bet',\n",
       "    'you',\n",
       "    'can',\n",
       "    'get',\n",
       "    'hurt',\n",
       "    'my',\n",
       "    'wife',\n",
       "    'works',\n",
       "    'and',\n",
       "    'i',\n",
       "    'stay',\n",
       "    'at',\n",
       "    'home'],\n",
       "   ['to', 'get', 'a', 'good', 'job']],\n",
       "  ['get',\n",
       "   ['yes',\n",
       "    'i',\n",
       "    'bet',\n",
       "    'you',\n",
       "    'can',\n",
       "    'get',\n",
       "    'hurt',\n",
       "    'my',\n",
       "    'wife',\n",
       "    'works',\n",
       "    'and',\n",
       "    'i',\n",
       "    'stay',\n",
       "    'at',\n",
       "    'home'],\n",
       "   ['get', 's', 'things', 'done', 'well']],\n",
       "  ['get',\n",
       "   ['yes',\n",
       "    'i',\n",
       "    'bet',\n",
       "    'you',\n",
       "    'can',\n",
       "    'get',\n",
       "    'hurt',\n",
       "    'my',\n",
       "    'wife',\n",
       "    'works',\n",
       "    'and',\n",
       "    'i',\n",
       "    'stay',\n",
       "    'at',\n",
       "    'home'],\n",
       "   ['get', 's', 'their', 'work', 'done']],\n",
       "  ['get',\n",
       "   ['yes',\n",
       "    'i',\n",
       "    'bet',\n",
       "    'you',\n",
       "    'can',\n",
       "    'get',\n",
       "    'hurt',\n",
       "    'my',\n",
       "    'wife',\n",
       "    'works',\n",
       "    'and',\n",
       "    'i',\n",
       "    'stay',\n",
       "    'at',\n",
       "    'home'],\n",
       "   ['get', 's', 'things', 'done']],\n",
       "  ['get',\n",
       "   ['yes',\n",
       "    'i',\n",
       "    'bet',\n",
       "    'you',\n",
       "    'can',\n",
       "    'get',\n",
       "    'hurt',\n",
       "    'my',\n",
       "    'wife',\n",
       "    'works',\n",
       "    'and',\n",
       "    'i',\n",
       "    'stay',\n",
       "    'at',\n",
       "    'home'],\n",
       "   ['to', 'get', 'rid', 'of', 'him']],\n",
       "  ['get',\n",
       "   ['yes',\n",
       "    'i',\n",
       "    'bet',\n",
       "    'you',\n",
       "    'can',\n",
       "    'get',\n",
       "    'hurt',\n",
       "    'my',\n",
       "    'wife',\n",
       "    'works',\n",
       "    'and',\n",
       "    'i',\n",
       "    'stay',\n",
       "    'at',\n",
       "    'home'],\n",
       "   ['to', 'get', 'a', 'new', 'job']],\n",
       "  ['get',\n",
       "   ['yes',\n",
       "    'i',\n",
       "    'bet',\n",
       "    'you',\n",
       "    'can',\n",
       "    'get',\n",
       "    'hurt',\n",
       "    'my',\n",
       "    'wife',\n",
       "    'works',\n",
       "    'and',\n",
       "    'i',\n",
       "    'stay',\n",
       "    'at',\n",
       "    'home'],\n",
       "   ['to', 'get', 'a', 'raise']],\n",
       "  ['get',\n",
       "   ['yes',\n",
       "    'i',\n",
       "    'bet',\n",
       "    'you',\n",
       "    'can',\n",
       "    'get',\n",
       "    'hurt',\n",
       "    'my',\n",
       "    'wife',\n",
       "    'works',\n",
       "    'and',\n",
       "    'i',\n",
       "    'stay',\n",
       "    'at',\n",
       "    'home'],\n",
       "   ['to', 'get', 'a', 'promotion']],\n",
       "  ['get',\n",
       "   ['yes',\n",
       "    'i',\n",
       "    'bet',\n",
       "    'you',\n",
       "    'can',\n",
       "    'get',\n",
       "    'hurt',\n",
       "    'my',\n",
       "    'wife',\n",
       "    'works',\n",
       "    'and',\n",
       "    'i',\n",
       "    'stay',\n",
       "    'at',\n",
       "    'home'],\n",
       "   ['they', 'get', 'sick']],\n",
       "  ['help',\n",
       "   ['nice',\n",
       "    'i',\n",
       "    'only',\n",
       "    'have',\n",
       "    'one',\n",
       "    'parent',\n",
       "    'so',\n",
       "    'now',\n",
       "    'i',\n",
       "    'help',\n",
       "    'out',\n",
       "    'my',\n",
       "    'mom'],\n",
       "   ['to', 'help', 'personx', 'raise', 'their', 'child']],\n",
       "  ['help',\n",
       "   ['nice',\n",
       "    'i',\n",
       "    'only',\n",
       "    'have',\n",
       "    'one',\n",
       "    'parent',\n",
       "    'so',\n",
       "    'now',\n",
       "    'i',\n",
       "    'help',\n",
       "    'out',\n",
       "    'my',\n",
       "    'mom'],\n",
       "   ['to', 'help', 'personx']]],\n",
       " 'conv_personality_overlap': 0.14,\n",
       " 'conv_comet_overlap': 0.25,\n",
       " 'conv_ext_personality_overlap': 0.33,\n",
       " 'additional_recall': 0.19}"
      ]
     },
     "execution_count": 63,
     "metadata": {},
     "output_type": "execute_result"
    }
   ],
   "source": [
    "all_ret_split[0]"
   ]
  },
  {
   "cell_type": "code",
   "execution_count": 70,
   "metadata": {},
   "outputs": [],
   "source": [
    "def show_random_additional_oc_ctxt(all_ret_split):\n",
    "    res = random.choice(all_ret_split)\n",
    "    res = random.choice(res['detailed_report'])\n",
    "    print(res)"
   ]
  },
  {
   "cell_type": "code",
   "execution_count": 71,
   "metadata": {},
   "outputs": [
    {
     "name": "stdout",
     "output_type": "stream",
     "text": [
      "0\n",
      "['like', ['i', 'like', 'eating', 'papaya', 'when', 'i', 'am', 'sad'], ['like', 'a', 'good', 'listener']]\n",
      "1\n",
      "['safe', ['yeah', 'i', 'try', 'to', 'play', 'it', 'safe', 'and', 'stay', 'home', 'with', 'my', 'cats', 'and', 'dogs'], ['to', 'make', 'sure', 'they', 'are', 'safe']]\n",
      "2\n",
      "['go', ['money', 'makes', 'the', 'world', 'go', 'round'], ['to', 'go', 'to', 'spain']]\n",
      "3\n",
      "['get', ['nice', 'chatting', 'with', 'you', 'im', 'going', 'to', 'get', 'a', 'short', 'haircut', 'now'], ['to', 'get', 'exercise']]\n",
      "4\n",
      "['walking', ['i', 'like', 'walking', 'period', 'but', 'yes', 'especially', 'nature', 'walks', 'how', 'about', 'you'], ['to', 'like', 'walking']]\n"
     ]
    }
   ],
   "source": [
    "for i in range(5):\n",
    "    print(i)\n",
    "    show_random_additional_oc_ctxt(all_ret_split)"
   ]
  },
  {
   "cell_type": "code",
   "execution_count": null,
   "metadata": {},
   "outputs": [],
   "source": []
  },
  {
   "cell_type": "raw",
   "metadata": {},
   "source": []
  },
  {
   "cell_type": "code",
   "execution_count": null,
   "metadata": {},
   "outputs": [],
   "source": []
  },
  {
   "cell_type": "code",
   "execution_count": null,
   "metadata": {},
   "outputs": [],
   "source": []
  },
  {
   "cell_type": "code",
   "execution_count": 27,
   "metadata": {},
   "outputs": [],
   "source": [
    "###########"
   ]
  },
  {
   "cell_type": "code",
   "execution_count": null,
   "metadata": {},
   "outputs": [],
   "source": []
  },
  {
   "cell_type": "code",
   "execution_count": null,
   "metadata": {},
   "outputs": [],
   "source": []
  },
  {
   "cell_type": "code",
   "execution_count": null,
   "metadata": {},
   "outputs": [],
   "source": []
  },
  {
   "cell_type": "code",
   "execution_count": null,
   "metadata": {},
   "outputs": [],
   "source": []
  },
  {
   "cell_type": "code",
   "execution_count": null,
   "metadata": {},
   "outputs": [],
   "source": []
  },
  {
   "cell_type": "code",
   "execution_count": null,
   "metadata": {},
   "outputs": [],
   "source": []
  },
  {
   "cell_type": "code",
   "execution_count": null,
   "metadata": {},
   "outputs": [],
   "source": []
  },
  {
   "cell_type": "code",
   "execution_count": null,
   "metadata": {},
   "outputs": [],
   "source": []
  },
  {
   "cell_type": "code",
   "execution_count": null,
   "metadata": {},
   "outputs": [],
   "source": []
  },
  {
   "cell_type": "code",
   "execution_count": null,
   "metadata": {},
   "outputs": [],
   "source": []
  }
 ],
 "metadata": {
  "kernelspec": {
   "display_name": "Python 3",
   "language": "python",
   "name": "python3"
  },
  "language_info": {
   "codemirror_mode": {
    "name": "ipython",
    "version": 3
   },
   "file_extension": ".py",
   "mimetype": "text/x-python",
   "name": "python",
   "nbconvert_exporter": "python",
   "pygments_lexer": "ipython3",
   "version": "3.7.4"
  }
 },
 "nbformat": 4,
 "nbformat_minor": 2
}
